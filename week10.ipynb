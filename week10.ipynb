{
  "nbformat": 4,
  "nbformat_minor": 0,
  "metadata": {
    "colab": {
      "provenance": []
    },
    "kernelspec": {
      "name": "python3",
      "display_name": "Python 3"
    },
    "language_info": {
      "name": "python"
    }
  },
  "cells": [
    {
      "cell_type": "markdown",
      "source": [
        "# **Weekly Exercise 1**"
      ],
      "metadata": {
        "id": "7XEJlZMntIDK"
      }
    },
    {
      "cell_type": "code",
      "execution_count": null,
      "metadata": {
        "id": "3aaI6MerFMlB",
        "colab": {
          "base_uri": "https://localhost:8080/"
        },
        "outputId": "cd5bf0b3-4185-42a1-ec48-e17eecdc2cfd"
      },
      "outputs": [
        {
          "output_type": "stream",
          "name": "stdout",
          "text": [
            "Masukkan Bilangan : 17\n",
            "Faktorial dari 17 adalah 355687428096000\n"
          ]
        }
      ],
      "source": [
        "angka = int(input(\"Masukkan Bilangan : \"))\n",
        "def faktorial(x):\n",
        "    if x == 1:\n",
        "        return 1\n",
        "    else:\n",
        "        return (x * faktorial(x-1))\n",
        "fkt = faktorial(angka)\n",
        "print(f\"Faktorial dari {angka} adalah {fkt}\")"
      ]
    },
    {
      "cell_type": "markdown",
      "source": [
        "# **Weekly Exercise 2**"
      ],
      "metadata": {
        "id": "zh0S50qEu6YM"
      }
    },
    {
      "cell_type": "code",
      "source": [
        "def luas_lingkaran():\n",
        "  jarijari = float(input(\"Masukkan angka jari-jari : \"))\n",
        "  phi = 3.14\n",
        "  luas = phi * jarijari * jarijari\n",
        "  print(f\"Luas lingkaran : \", luas)\n",
        "\n",
        "def luas_persegi():\n",
        "  sisi = float(input(\"Masukkan angka sisi : \"))\n",
        "  luas = sisi * sisi\n",
        "  print(f\"Luas persegi : \", luas)\n",
        "\n",
        "def luas_segitiga():\n",
        "  alas = float(input(\"Masukkan angka alas : \"))\n",
        "  tinggi = float(input(\"Masukkan angka tinggi : \"))\n",
        "  luas = 0.5 * alas * tinggi\n",
        "  print(f\"Luas segitiga : \", luas)\n",
        "\n",
        "def kalkulator():\n",
        "  while True:\n",
        "    print(\"\\nKalkulator Luas\")\n",
        "    print(\"1. Luas Lingkaran\")\n",
        "    print(\"2. Luas Persegi\")\n",
        "    print(\"3. Luas Segitiga\")\n",
        "    print(\"4. Keluar\")\n",
        "\n",
        "    x = input(\"Pilih operasi (1/2/3/4): \")\n",
        "\n",
        "    if x == '1':\n",
        "      luas_lingkaran()\n",
        "    elif x == '2':\n",
        "      luas_persegi()\n",
        "    elif x == '3':\n",
        "      luas_segitiga()\n",
        "    elif x == '4':\n",
        "      print(\"Terima kasih! Sampai jumpa.\")\n",
        "      break\n",
        "    else:\n",
        "      print(\"Input tidak valid. Silakan coba lagi.\")\n",
        "\n",
        "kalkulator()\n"
      ],
      "metadata": {
        "colab": {
          "base_uri": "https://localhost:8080/"
        },
        "id": "q22kpKVAu-MY",
        "outputId": "6bc34ae3-dc4e-46f9-cf8a-051ee60ab46a"
      },
      "execution_count": null,
      "outputs": [
        {
          "output_type": "stream",
          "name": "stdout",
          "text": [
            "\n",
            "Kalkulator Luas\n",
            "1. Luas Lingkaran\n",
            "2. Luas Persegi\n",
            "3. Luas Segitiga\n",
            "4. Keluar\n",
            "Pilih operasi (1/2/3/4): 3\n",
            "Masukkan angka alas : 15\n",
            "Masukkan angka tinggi : 96\n",
            "Luas segitiga :  720.0\n",
            "\n",
            "Kalkulator Luas\n",
            "1. Luas Lingkaran\n",
            "2. Luas Persegi\n",
            "3. Luas Segitiga\n",
            "4. Keluar\n",
            "Pilih operasi (1/2/3/4): 2\n",
            "Masukkan angka sisi : 1996\n",
            "Luas persegi :  3984016.0\n",
            "\n",
            "Kalkulator Luas\n",
            "1. Luas Lingkaran\n",
            "2. Luas Persegi\n",
            "3. Luas Segitiga\n",
            "4. Keluar\n",
            "Pilih operasi (1/2/3/4): 1\n",
            "Masukkan angka jari-jari : 30\n",
            "Luas lingkaran :  2826.0\n",
            "\n",
            "Kalkulator Luas\n",
            "1. Luas Lingkaran\n",
            "2. Luas Persegi\n",
            "3. Luas Segitiga\n",
            "4. Keluar\n",
            "Pilih operasi (1/2/3/4): 4\n",
            "Terima kasih! Sampai jumpa.\n"
          ]
        }
      ]
    }
  ]
}